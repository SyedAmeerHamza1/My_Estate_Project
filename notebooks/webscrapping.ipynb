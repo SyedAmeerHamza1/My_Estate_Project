{
 "cells": [
  {
   "cell_type": "code",
   "execution_count": 3,
   "metadata": {},
   "outputs": [
    {
     "name": "stderr",
     "output_type": "stream",
     "text": [
      "C:\\Users\\syeds\\AppData\\Local\\Temp\\ipykernel_42344\\1729307125.py:5: DeprecationWarning: \n",
      "Pyarrow will become a required dependency of pandas in the next major release of pandas (pandas 3.0),\n",
      "(to allow more performant data types, such as the Arrow string type, and better interoperability with other libraries)\n",
      "but was not found to be installed on your system.\n",
      "If this would cause problems for you,\n",
      "please provide us feedback at https://github.com/pandas-dev/pandas/issues/54466\n",
      "        \n",
      "  import pandas as pd\n"
     ]
    }
   ],
   "source": [
    "# Imports\n",
    "\n",
    "import requests\n",
    "from bs4 import BeautifulSoup\n",
    "import pandas as pd\n",
    "import os\n",
    "import time"
   ]
  },
  {
   "cell_type": "code",
   "execution_count": 4,
   "metadata": {},
   "outputs": [],
   "source": []
  },
  {
   "cell_type": "code",
   "execution_count": 11,
   "metadata": {},
   "outputs": [
    {
     "name": "stdout",
     "output_type": "stream",
     "text": [
      "Created directory: D:\\Projects\\My_Estate_Project\\data\\raw\\Flats\n",
      "Created directory: D:\\Projects\\My_Estate_Project\\data\\raw\\Societies\n",
      "Created directory: D:\\Projects\\My_Estate_Project\\data\\raw\\Residential\n",
      "Created directory: D:\\Projects\\My_Estate_Project\\data\\raw\\Independent House\n"
     ]
    }
   ],
   "source": [
    "# If folder structures are in already created no need to run it.\n",
    "\n",
    "import os\n",
    "\n",
    "# Define the path to your project directory\n",
    "project_dir = r'D:\\Projects\\My_Estate_Project\\data\\raw'\n",
    "\n",
    "# Define the subdirectories\n",
    "subdirectories = ['Flats', 'Societies', 'Residential', 'Independent House']\n",
    "\n",
    "# Create the directory structure\n",
    "for subdir in subdirectories:\n",
    "    dir_path = os.path.join(project_dir, subdir)\n",
    "    if not os.path.exists(dir_path):\n",
    "        os.makedirs(dir_path)\n",
    "        print(f\"Created directory: {dir_path}\")\n",
    "    else:\n",
    "        print(f\"Directory already exists: {dir_path}\")\n",
    "\n",
    "# Now, your directory structure is created."
   ]
  },
  {
   "cell_type": "code",
   "execution_count": null,
   "metadata": {},
   "outputs": [],
   "source": []
  }
 ],
 "metadata": {
  "kernelspec": {
   "display_name": "Python 3",
   "language": "python",
   "name": "python3"
  },
  "language_info": {
   "codemirror_mode": {
    "name": "ipython",
    "version": 3
   },
   "file_extension": ".py",
   "mimetype": "text/x-python",
   "name": "python",
   "nbconvert_exporter": "python",
   "pygments_lexer": "ipython3",
   "version": "3.11.0"
  }
 },
 "nbformat": 4,
 "nbformat_minor": 2
}
